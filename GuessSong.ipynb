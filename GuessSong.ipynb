{
 "cells": [
  {
   "cell_type": "code",
   "execution_count": 6,
   "id": "24616503",
   "metadata": {},
   "outputs": [],
   "source": [
    "import json\n",
    "import requests\n",
    "from IPython.display import display, Audio, clear_output"
   ]
  },
  {
   "cell_type": "code",
   "execution_count": 12,
   "id": "4d537958",
   "metadata": {},
   "outputs": [
    {
     "name": "stdout",
     "output_type": "stream",
     "text": [
      "Enter the name of a band or artist (or \"done\" to exit): mqroon 5\n",
      "0 song total \n",
      "\n",
      "Enter the name of a band or artist (or \"done\" to exit): maroon 5\n",
      "50 song total \n",
      "\n",
      "Enter the name of a band or artist (or \"done\" to exit): done\n",
      "_____ ____ ______ (____. _________ ________)\n"
     ]
    }
   ],
   "source": [
    "def getURL(term):\n",
    "    keyVals = {'term':term, 'media':'music'}\n",
    "    link = requests.get('https://itunes.apple.com/search', params=keyVals)\n",
    "    return link.json()\n",
    "\n",
    "def write(data):\n",
    "    with open('json_data.json','w') as outfile:\n",
    "        json.dump(data, outfile)\n",
    "\n",
    "def getListOfSongs():\n",
    "    songlst = []\n",
    "    while True:\n",
    "        userInp = input('Enter the name of a band or artist (or \"done\" to exit): ')\n",
    "        if userInp == 'done':\n",
    "            return songlst\n",
    "        else:\n",
    "            data = getURL(userInp)\n",
    "            songlst += data['results']\n",
    "            print(len(songlst),'song total \\n')\n",
    "\n",
    "def playSong(data):\n",
    "    audio_url = data['previewUrl']\n",
    "    Audio(url=audio_url)\n",
    "    display(Audio(audio_url, autoplay=True))\n",
    "\n",
    "def getName(data):\n",
    "    name = data['trackName']\n",
    "    blankName = ''\n",
    "    for char in name:\n",
    "        if char.isalpha():\n",
    "            blankName += '_'\n",
    "        elif char.isnumeric():\n",
    "            blankName += '_'\n",
    "        else:\n",
    "            blankName += char\n",
    "    return blankName\n",
    "\n",
    "def guessSong(data, guess):\n",
    "    name = data['trackName']\n",
    "    \n",
    "    if guess.upper() == song_name.upper():\n",
    "        print('You got it!')\n",
    "        return\n",
    "    elif guess.lower() == 'skip':\n",
    "        print(\"The song was '{}'\".format(song_name))\n",
    "        return\n",
    "    elif guess.lower() == 'exit':\n",
    "        print(\"The song was '{}'\".format(song_name))\n",
    "        return 'exit'\n",
    "    else:\n",
    "        print(\"It's not '{}'\".format(user_inp))\n",
    "        new_guess = askForHint(song_data, song_guess)\n",
    "    \n",
    "def hangman(data):\n",
    "    return\n",
    "    \n",
    "    \n",
    "def play():\n",
    "    continue = True\n",
    "    songs = getListOfSongs()\n",
    "    while continue:\n",
    "        print('ROUND {}'.format(round_num))\n",
    "        song = random.choice(songs)\n",
    "        playSong(song)\n",
    "        guess = input(\"Guess the song (or 'skip' or 'exit'): \")\n",
    "        guessSong(song, guess)\n",
    "        \n",
    "        \n",
    "        \n",
    "        \n",
    "        round_num += 1\n",
    "        \n",
    "play()\n",
    "\n"
   ]
  },
  {
   "cell_type": "code",
   "execution_count": null,
   "id": "7ce078b9",
   "metadata": {},
   "outputs": [],
   "source": []
  }
 ],
 "metadata": {
  "kernelspec": {
   "display_name": "Python 3",
   "language": "python",
   "name": "python3"
  },
  "language_info": {
   "codemirror_mode": {
    "name": "ipython",
    "version": 3
   },
   "file_extension": ".py",
   "mimetype": "text/x-python",
   "name": "python",
   "nbconvert_exporter": "python",
   "pygments_lexer": "ipython3",
   "version": "3.8.8"
  }
 },
 "nbformat": 4,
 "nbformat_minor": 5
}
